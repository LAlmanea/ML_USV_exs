{
 "cells": [
  {
   "cell_type": "code",
   "execution_count": 1,
   "metadata": {
    "collapsed": false
   },
   "outputs": [
    {
     "name": "stdout",
     "output_type": "stream",
     "text": [
      "[[ 0.49  0.29  0.48 ...,  0.56  0.24  0.35]\n",
      " [ 0.07  0.4   0.48 ...,  0.54  0.35  0.44]\n",
      " [ 0.56  0.4   0.48 ...,  0.49  0.37  0.46]\n",
      " ..., \n",
      " [ 0.61  0.6   0.48 ...,  0.44  0.39  0.38]\n",
      " [ 0.59  0.61  0.48 ...,  0.42  0.42  0.37]\n",
      " [ 0.74  0.74  0.48 ...,  0.31  0.53  0.52]]\n"
     ]
    }
   ],
   "source": [
    "import sys\n",
    "sys.path.append('/usr/local/lib/python3.6/site-packages')\n",
    "# python3 in my computer only uses the packages I installed when I point at the path, otherwise it doesn't work. \n",
    "\n",
    "from numpy import genfromtxt\n",
    "data = genfromtxt('ecoli.csv', delimiter=',', usecols=range(1,8))\n",
    "print(data)"
   ]
  },
  {
   "cell_type": "code",
   "execution_count": 3,
   "metadata": {
    "collapsed": false
   },
   "outputs": [
    {
     "data": {
      "image/png": "[encoded data removed]",
      "text/plain": [
       "<matplotlib.figure.Figure at 0x106818940>"
      ]
     },
     "metadata": {},
     "output_type": "display_data"
    }
   ],
   "source": [
    "# perform PCA\n",
    "def doPCA():\n",
    "    from sklearn.decomposition import PCA\n",
    "    pca = PCA(n_components=2)\n",
    "    pca.fit(data)\n",
    "    return pca\n",
    "\n",
    "pca = doPCA()\n",
    "first_pc = pca.components_[0]\n",
    "second_pc = pca.components_[1]\n",
    "transformed_data = pca.transform(data)\n",
    "\n",
    "# Visualize data\n",
    "for ii, jj in zip(transformed_data, data):\n",
    "    import matplotlib.pyplot as plt\n",
    "    plt.scatter(first_pc[0]*ii[0], first_pc[1]*ii[0], color='r')\n",
    "    plt.scatter(second_pc[0]*ii[1], second_pc[1]*ii[1], color='c')\n",
    "    plt.scatter(ii[0], ii[1], color='b')\n",
    "plt.show()"
   ]
  },
  {
   "cell_type": "markdown",
   "metadata": {},
   "source": [
    "Which localization sites can (at least roughly) be separated using\n",
    "- i) only the first\n",
    "- ii) only the second\n",
    "- iii) the first and the second\n",
    "\n",
    "principal component?"
   ]
  },
  {
   "cell_type": "code",
   "execution_count": 4,
   "metadata": {
    "collapsed": false
   },
   "outputs": [
    {
     "name": "stdout",
     "output_type": "stream",
     "text": [
      "[ 0.5161681  0.7603715]\n"
     ]
    }
   ],
   "source": [
    "# This print statement should explain the 1st and 2nd principal components\n",
    "print (pca.explained_variance_ratio_.cumsum())"
   ]
  },
  {
   "cell_type": "markdown",
   "metadata": {},
   "source": [
    "These values explian the variance in the data for the 1st and 2nd principal components repectively. So if one is used, say 1st_pc (the red line in the plot), then only ~51% of the variance in the data is retained, but if the 1st and 2nd (cyan line in the plot) principla components are used, then ~76% of the variance in the data is retained.\n",
    "\n",
    "I expect 100% retention of the variance in the data, if i set the n_components=n_features which is 7 in this dataset."
   ]
  }
 ],
 "metadata": {
  "kernelspec": {
   "display_name": "Python 3",
   "language": "python",
   "name": "python3"
  },
  "language_info": {
   "codemirror_mode": {
    "name": "ipython",
    "version": 3
   },
   "file_extension": ".py",
   "mimetype": "text/x-python",
   "name": "python",
   "nbconvert_exporter": "python",
   "pygments_lexer": "ipython3",
   "version": "3.6.1"
  }
 },
 "nbformat": 4,
 "nbformat_minor": 2
}
